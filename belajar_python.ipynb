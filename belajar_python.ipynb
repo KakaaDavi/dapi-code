{
  "nbformat": 4,
  "nbformat_minor": 0,
  "metadata": {
    "colab": {
      "provenance": [],
      "authorship_tag": "ABX9TyO3sCuJ8RUiJ3NtVhM2NK4m",
      "include_colab_link": true
    },
    "kernelspec": {
      "name": "python3",
      "display_name": "Python 3"
    },
    "language_info": {
      "name": "python"
    }
  },
  "cells": [
    {
      "cell_type": "markdown",
      "metadata": {
        "id": "view-in-github",
        "colab_type": "text"
      },
      "source": [
        "<a href=\"https://colab.research.google.com/github/KakaaDavi/dapi-code/blob/main/belajar_python.ipynb\" target=\"_parent\"><img src=\"https://colab.research.google.com/assets/colab-badge.svg\" alt=\"Open In Colab\"/></a>"
      ]
    },
    {
      "cell_type": "code",
      "execution_count": null,
      "metadata": {
        "id": "fRRZwx6jfvVj"
      },
      "outputs": [],
      "source": [
        "#MATERI PERCABANGAN PYTHON\n",
        "nama = input(\"Masukkan nama: \")\n",
        "umur = int(input(\"Masukkan umur: \"))\n",
        "ipk = float(input(\"Masukkan ipk: \"))\n",
        "validasi_input = input(\"Apakah kamu mahasiswa? (Ya/Tidak): \").lower()\n",
        "#validasi jawaban benar adalah ya\n",
        "validasi_input == \"ya\"\n",
        "hobi = input(\"Masukkan hobi: \")\n",
        "statusipk = \"\"\n",
        "\n",
        "print(\"Biodata Gua\")\n",
        "print(f\"Nama saya adalah    : {nama}\")\n",
        "#fungsi len() dipakai untuk menghitung jumlah karakter\n",
        "print(f\"Panjang nama saya   : {len(nama)} karakter\")\n",
        "print(f\"Umur saya adalah    : {umur + 1}\")\n",
        "print(f\"IPK saya adalah     : {ipk}\")\n",
        "#tidak harus pakai print untuk operasi if-else, pake assignment juga bisa\n",
        "if ipk >= 4:\n",
        "  statusipk = \"Sangat Baik\"\n",
        "elif ipk >= 3:\n",
        "  statusipk = \"Baik\"\n",
        "elif ipk >= 2:\n",
        "  statusipk = \"Cukup\"\n",
        "else:\n",
        "  statusipk = \"Kurang\"\n",
        "print(f\"Status Mahasiswa    : {validasi_input}\")\n",
        "print(f\"Hobi saya adalah    : {hobi}\")\n",
        "print(f\"Status IPK          : {statusipk}\")"
      ]
    },
    {
      "cell_type": "code",
      "source": [
        "#MINI PROJEK MATERI PERCABANGAN (IF, ELIF, ELSE)\n",
        "nama = input(\"Masukkan nama : \")\n",
        "umur = int(input(\"Masukkan umur : \"))\n",
        "statusumur = \"\"\n",
        "if umur >= 20:\n",
        "  statusumur = \"Dewasa\"\n",
        "elif umur >= 15:\n",
        "  statusumur = \"Remaja\"\n",
        "else:\n",
        "  statusumur = \"Anak-anak\"\n",
        "ipk = float(input(\"Masukkan IPK : \"))\n",
        "status_ipk = \"\"\n",
        "if ipk == 4:\n",
        "  statusipk = \"Sangat Baik\"\n",
        "elif ipk >= 3:\n",
        "  statusipk = \"Baik\"\n",
        "elif ipk >= 2:\n",
        "  statusipk = \"Cukup\"\n",
        "else:\n",
        "  statusipk = \"Kurang\"\n",
        "status_mahasiswa = input(\"Apakah kamu mahasiswa? (Ya/Tidak)\")\n",
        "#untuk validasi inputan\n",
        "if status_mahasiswa in ['Ya', 'YA', 'ya', 'Y', 'y']:\n",
        "  status_mahasiswa = \"Selamat Datang!\"\n",
        "else:\n",
        "  status_mahasiswa = \" \"\n",
        "\n",
        "print()\n",
        "print(\"==BIODATA MAHASISWA==\")\n",
        "print(f\"Nama : {nama}\")\n",
        "print(f\"Umur : {umur}\")\n",
        "print(f\"Kategori umur: {statusumur}\")\n",
        "print(f\"IPK  : {ipk}\")\n",
        "print(f\"Status IPK : {statusipk}\")\n",
        "print(status_mahasiswa)"
      ],
      "metadata": {
        "id": "yLfZhyR_gg8J"
      },
      "execution_count": null,
      "outputs": []
    }
  ]
}